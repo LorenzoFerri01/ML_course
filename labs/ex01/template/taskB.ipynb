{
 "cells": [
  {
   "cell_type": "code",
   "execution_count": 1,
   "metadata": {},
   "outputs": [],
   "source": [
    "# Import necessary libraries\n",
    "%matplotlib inline\n",
    "import numpy as np\n",
    "import matplotlib.pyplot as plt\n",
    "\n",
    "%load_ext autoreload\n",
    "%autoreload 2\n",
    "\n",
    "# Load test module for sanity check\n",
    "from test_utils import test"
   ]
  },
  {
   "cell_type": "markdown",
   "metadata": {},
   "source": [
    "Data Generation\n",
    "==="
   ]
  },
  {
   "cell_type": "code",
   "execution_count": 2,
   "metadata": {},
   "outputs": [
    {
     "name": "stdout",
     "output_type": "stream",
     "text": [
      "[[0.77132064 0.02075195]\n",
      " [0.63364823 0.74880388]\n",
      " [0.49850701 0.22479665]\n",
      " [0.19806286 0.76053071]] \n",
      "\n",
      " [[0.16911084 0.08833981]\n",
      " [0.68535982 0.95339335]\n",
      " [0.00394827 0.51219226]\n",
      " [0.81262096 0.61252607]\n",
      " [0.72175532 0.29187607]]\n"
     ]
    }
   ],
   "source": [
    "np.random.seed(10)\n",
    "P, Q = (np.random.rand(i, 2) for i in (4, 5))\n",
    "P_big, Q_big = (np.random.rand(i, 80) for i in (100, 120))\n",
    "\n",
    "print(P, \"\\n\\n\", Q)"
   ]
  },
  {
   "cell_type": "markdown",
   "metadata": {},
   "source": [
    "Solution\n",
    "==="
   ]
  },
  {
   "cell_type": "code",
   "execution_count": 22,
   "metadata": {},
   "outputs": [
    {
     "name": "stdout",
     "output_type": "stream",
     "text": [
      "✅ Your `naive` passed 1 tests.\n"
     ]
    }
   ],
   "source": [
    "def naive(P, Q):\n",
    "    \"\"\"\n",
    "    A naive solution for finding pairvise distances between poins in P and Q\n",
    "\n",
    "    Args:\n",
    "        P: numpy array of shape=(p, 2)\n",
    "        Q: numpy array of shape=(q, 2)\n",
    "    Returns:\n",
    "        D: numpy array of shape=(p, q)\n",
    "\n",
    "    >>> naive(np.array([[0, 1]]), np.array([[2, 3], [4, 5]]))\n",
    "    array([[2.82842712, 5.65685425]])\n",
    "    \"\"\"\n",
    "    # ***************************************************\n",
    "    # INSERT YOUR CODE HERE\n",
    "    # TODO: implement a naive solution\n",
    "    # ***************************************************\n",
    "    \n",
    "    p = P.shape[0]\n",
    "    q = Q.shape[0]\n",
    "    D = np.zeros((p,q))\n",
    "    for i in range(p):\n",
    "        for j in range(q):\n",
    "            D[i,j] = np.sqrt((P[i,0]-Q[j,0])**2 + (P[i,1]-Q[j,1])**2)\n",
    "    \n",
    "    return D\n",
    "    \n",
    "    raise NotImplementedError\n",
    "\n",
    "\n",
    "test(naive)"
   ]
  },
  {
   "cell_type": "markdown",
   "metadata": {},
   "source": [
    "### Use matching indices\n",
    "\n",
    "Instead of iterating through indices, one can use them directly to parallelize the operations with Numpy."
   ]
  },
  {
   "cell_type": "code",
   "execution_count": 23,
   "metadata": {},
   "outputs": [
    {
     "name": "stdout",
     "output_type": "stream",
     "text": [
      "[[0 0 0 0 0]\n",
      " [1 1 1 1 1]\n",
      " [2 2 2 2 2]\n",
      " [3 3 3 3 3]\n",
      " [4 4 4 4 4]\n",
      " [5 5 5 5 5]\n",
      " [6 6 6 6 6]\n",
      " [7 7 7 7 7]\n",
      " [8 8 8 8 8]\n",
      " [9 9 9 9 9]]\n",
      "\n",
      "[[0 1 2 3 4]\n",
      " [0 1 2 3 4]\n",
      " [0 1 2 3 4]\n",
      " [0 1 2 3 4]\n",
      " [0 1 2 3 4]\n",
      " [0 1 2 3 4]\n",
      " [0 1 2 3 4]\n",
      " [0 1 2 3 4]\n",
      " [0 1 2 3 4]\n",
      " [0 1 2 3 4]]\n"
     ]
    }
   ],
   "source": [
    "rows, cols = np.indices((P.shape[0], Q.shape[0]))\n",
    "print(rows, end=\"\\n\\n\")\n",
    "print(cols)"
   ]
  },
  {
   "cell_type": "code",
   "execution_count": 24,
   "metadata": {},
   "outputs": [
    {
     "name": "stdout",
     "output_type": "stream",
     "text": [
      "[[-0.51540607 -1.2404397 ]\n",
      " [-0.51540607 -1.2404397 ]\n",
      " [-0.51540607 -1.2404397 ]\n",
      " [-0.51540607 -1.2404397 ]\n",
      " [-0.51540607 -1.2404397 ]\n",
      " [-0.30973528 -1.17111139]\n",
      " [-0.30973528 -1.17111139]\n",
      " [-0.30973528 -1.17111139]\n",
      " [-0.30973528 -1.17111139]\n",
      " [-0.30973528 -1.17111139]\n",
      " [-0.66244618  0.72072931]\n",
      " [-0.66244618  0.72072931]\n",
      " [-0.66244618  0.72072931]\n",
      " [-0.66244618  0.72072931]\n",
      " [-0.66244618  0.72072931]\n",
      " [-0.74042636 -0.92339715]\n",
      " [-0.74042636 -0.92339715]\n",
      " [-0.74042636 -0.92339715]\n",
      " [-0.74042636 -0.92339715]\n",
      " [-0.74042636 -0.92339715]\n",
      " [-0.22023395  0.6764098 ]\n",
      " [-0.22023395  0.6764098 ]\n",
      " [-0.22023395  0.6764098 ]\n",
      " [-0.22023395  0.6764098 ]\n",
      " [-0.22023395  0.6764098 ]\n",
      " [-2.09200042 -0.12921134]\n",
      " [-2.09200042 -0.12921134]\n",
      " [-2.09200042 -0.12921134]\n",
      " [-2.09200042 -0.12921134]\n",
      " [-2.09200042 -0.12921134]\n",
      " [ 0.59403826 -0.71966239]\n",
      " [ 0.59403826 -0.71966239]\n",
      " [ 0.59403826 -0.71966239]\n",
      " [ 0.59403826 -0.71966239]\n",
      " [ 0.59403826 -0.71966239]\n",
      " [-0.56582483  1.81999104]\n",
      " [-0.56582483  1.81999104]\n",
      " [-0.56582483  1.81999104]\n",
      " [-0.56582483  1.81999104]\n",
      " [-0.56582483  1.81999104]\n",
      " [-1.33017764 -0.34707409]\n",
      " [-1.33017764 -0.34707409]\n",
      " [-1.33017764 -0.34707409]\n",
      " [-1.33017764 -0.34707409]\n",
      " [-1.33017764 -0.34707409]\n",
      " [-0.86915657  0.80716751]\n",
      " [-0.86915657  0.80716751]\n",
      " [-0.86915657  0.80716751]\n",
      " [-0.86915657  0.80716751]\n",
      " [-0.86915657  0.80716751]]\n",
      "\n",
      "[[-0.96886479  0.40555511]\n",
      " [ 0.12357112  0.36422579]\n",
      " [ 0.53970591 -0.69118875]\n",
      " [-0.24332334  2.38755111]\n",
      " [ 1.80950056 -1.89472184]\n",
      " [-0.96886479  0.40555511]\n",
      " [ 0.12357112  0.36422579]\n",
      " [ 0.53970591 -0.69118875]\n",
      " [-0.24332334  2.38755111]\n",
      " [ 1.80950056 -1.89472184]\n",
      " [-0.96886479  0.40555511]\n",
      " [ 0.12357112  0.36422579]\n",
      " [ 0.53970591 -0.69118875]\n",
      " [-0.24332334  2.38755111]\n",
      " [ 1.80950056 -1.89472184]\n",
      " [-0.96886479  0.40555511]\n",
      " [ 0.12357112  0.36422579]\n",
      " [ 0.53970591 -0.69118875]\n",
      " [-0.24332334  2.38755111]\n",
      " [ 1.80950056 -1.89472184]\n",
      " [-0.96886479  0.40555511]\n",
      " [ 0.12357112  0.36422579]\n",
      " [ 0.53970591 -0.69118875]\n",
      " [-0.24332334  2.38755111]\n",
      " [ 1.80950056 -1.89472184]\n",
      " [-0.96886479  0.40555511]\n",
      " [ 0.12357112  0.36422579]\n",
      " [ 0.53970591 -0.69118875]\n",
      " [-0.24332334  2.38755111]\n",
      " [ 1.80950056 -1.89472184]\n",
      " [-0.96886479  0.40555511]\n",
      " [ 0.12357112  0.36422579]\n",
      " [ 0.53970591 -0.69118875]\n",
      " [-0.24332334  2.38755111]\n",
      " [ 1.80950056 -1.89472184]\n",
      " [-0.96886479  0.40555511]\n",
      " [ 0.12357112  0.36422579]\n",
      " [ 0.53970591 -0.69118875]\n",
      " [-0.24332334  2.38755111]\n",
      " [ 1.80950056 -1.89472184]\n",
      " [-0.96886479  0.40555511]\n",
      " [ 0.12357112  0.36422579]\n",
      " [ 0.53970591 -0.69118875]\n",
      " [-0.24332334  2.38755111]\n",
      " [ 1.80950056 -1.89472184]\n",
      " [-0.96886479  0.40555511]\n",
      " [ 0.12357112  0.36422579]\n",
      " [ 0.53970591 -0.69118875]\n",
      " [-0.24332334  2.38755111]\n",
      " [ 1.80950056 -1.89472184]]\n"
     ]
    }
   ],
   "source": [
    "print(P[rows.ravel()], end=\"\\n\\n\")\n",
    "print(Q[cols.ravel()])"
   ]
  },
  {
   "cell_type": "code",
   "execution_count": 37,
   "metadata": {},
   "outputs": [
    {
     "name": "stdout",
     "output_type": "stream",
     "text": [
      "✅ Your `with_indices` passed 1 tests.\n"
     ]
    }
   ],
   "source": [
    "def with_indices(P, Q):\n",
    "    \"\"\"\n",
    "    An optimized solution using matching indices\n",
    "\n",
    "    Args:\n",
    "        P: numpy array of shape=(p, 2)\n",
    "        Q: numpy array of shape=(q, 2)\n",
    "    Returns:\n",
    "        D: numpy array of shape=(p, q)\n",
    "\n",
    "    >>> with_indices(np.array([[0, 1]]), np.array([[2, 3], [4, 5]]))\n",
    "    array([[2.82842712, 5.65685425]])\n",
    "    \"\"\"\n",
    "    # ***************************************************\n",
    "    # INSERT YOUR CODE HERE\n",
    "    # TODO: implement an optimized solution\n",
    "    # ***************************************************\n",
    "    \n",
    "    rows, cols = np.indices((P.shape[0], Q.shape[0]))\n",
    "    temp = (P[rows.ravel()] - Q[cols.ravel()])**2\n",
    "    temp = np.sqrt(np.sum(temp, axis=1))\n",
    "    return np.reshape(temp, (P.shape[0], Q.shape[0]), order='F')\n",
    "    \n",
    "    raise NotImplementedError\n",
    "\n",
    "\n",
    "test(with_indices)"
   ]
  },
  {
   "cell_type": "markdown",
   "metadata": {},
   "source": [
    "### Use a library\n",
    "\n",
    "`scipy` is the equivalent of matlab toolboxes and have a lot to offer. Actually the pairwise computation is part of the library through the `spatial` module."
   ]
  },
  {
   "cell_type": "code",
   "execution_count": 39,
   "metadata": {},
   "outputs": [],
   "source": [
    "from scipy.spatial.distance import cdist\n",
    "\n",
    "\n",
    "def scipy_version(P, Q):\n",
    "    \"\"\"\n",
    "    A solution using scipy\n",
    "\n",
    "    Args:\n",
    "        P: numpy array of shape=(p, 2)\n",
    "        Q: numpy array of shape=(q, 2)\n",
    "\n",
    "    Returns:\n",
    "        D: numpy array of shape=(p, q)\n",
    "\n",
    "    >>> scipy_version(np.array([[0, 1]]), np.array([[2, 3], [4, 5]]))\n",
    "    array([[2.82842712, 5.65685425]])\n",
    "    \"\"\"\n",
    "    return cdist(P, Q)"
   ]
  },
  {
   "cell_type": "markdown",
   "metadata": {},
   "source": [
    "### Numpy Magic"
   ]
  },
  {
   "cell_type": "code",
   "execution_count": 40,
   "metadata": {},
   "outputs": [],
   "source": [
    "def tensor_broadcasting(P, Q):\n",
    "    \"\"\"\n",
    "    A solution using tensor broadcasting\n",
    "\n",
    "    Args:\n",
    "        P: numpy array of shape=(p, 2)\n",
    "        Q: numpy array of shape=(q, 2)\n",
    "\n",
    "    Returns:\n",
    "        D: numpy array of shape=(p, q)\n",
    "\n",
    "    >>> tensor_broadcasting(np.array([[0, 1]]), np.array([[2, 3], [4, 5]]))\n",
    "    array([[2.82842712, 5.65685425]])\n",
    "    \"\"\"\n",
    "    return np.sqrt(np.sum((P[:, np.newaxis, :] - Q[np.newaxis, :, :]) ** 2, axis=2))"
   ]
  },
  {
   "cell_type": "markdown",
   "metadata": {},
   "source": [
    "# Compare methods"
   ]
  },
  {
   "cell_type": "code",
   "execution_count": 41,
   "metadata": {},
   "outputs": [
    {
     "name": "stdout",
     "output_type": "stream",
     "text": [
      "40.5 ms ± 7.6 ms per loop (mean ± std. dev. of 7 runs, 10 loops each)\n",
      "15.2 ms ± 934 μs per loop (mean ± std. dev. of 7 runs, 100 loops each)\n",
      "422 μs ± 32.1 μs per loop (mean ± std. dev. of 7 runs, 1,000 loops each)\n",
      "8.15 ms ± 109 μs per loop (mean ± std. dev. of 7 runs, 100 loops each)\n"
     ]
    }
   ],
   "source": [
    "methods = [\n",
    "    naive,\n",
    "    # naive_2,  # This is another possible solution. Feel free to comment it out if you have only one solution.\n",
    "    with_indices,\n",
    "     # with_indices_2,  # This is another possible solution. Feel free to comment it out if you have only one solution.\n",
    "    scipy_version,\n",
    "    tensor_broadcasting,\n",
    "]\n",
    "timers = []\n",
    "for f in methods:\n",
    "    r = %timeit -o f(P_big, Q_big)\n",
    "    timers.append(r)"
   ]
  },
  {
   "cell_type": "code",
   "execution_count": 42,
   "metadata": {},
   "outputs": [
    {
     "data": {
      "image/png": "[encoded data removed]",
      "text/plain": [
       "<Figure size 1000x600 with 1 Axes>"
      ]
     },
     "metadata": {},
     "output_type": "display_data"
    }
   ],
   "source": [
    "plt.figure(figsize=(10, 6))\n",
    "plt.bar(\n",
    "    np.arange(len(methods)), [r.best * 1000 for r in timers], log=False\n",
    ")  # Set log to True for logarithmic scale\n",
    "plt.xticks(np.arange(len(methods)) + 0.2, [f.__name__ for f in methods], rotation=30)\n",
    "plt.xlabel(\"Method\")\n",
    "plt.ylabel(\"Time (ms)\")\n",
    "plt.show()"
   ]
  }
 ],
 "metadata": {
  "kernelspec": {
   "display_name": ".venv",
   "language": "python",
   "name": "python3"
  },
  "language_info": {
   "codemirror_mode": {
    "name": "ipython",
    "version": 3
   },
   "file_extension": ".py",
   "mimetype": "text/x-python",
   "name": "python",
   "nbconvert_exporter": "python",
   "pygments_lexer": "ipython3",
   "version": "3.12.5"
  }
 },
 "nbformat": 4,
 "nbformat_minor": 1
}
